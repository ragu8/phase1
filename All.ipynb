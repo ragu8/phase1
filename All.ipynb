{
 "cells": [
  {
   "cell_type": "code",
   "execution_count": 2,
   "id": "66dc071b-74cb-4bd1-8abf-6d17e77f0cf4",
   "metadata": {},
   "outputs": [
    {
     "name": "stderr",
     "output_type": "stream",
     "text": [
      "2024-10-06 00:19:35.023358: I external/local_xla/xla/tsl/cuda/cudart_stub.cc:32] Could not find cuda drivers on your machine, GPU will not be used.\n",
      "2024-10-06 00:19:35.028898: I external/local_xla/xla/tsl/cuda/cudart_stub.cc:32] Could not find cuda drivers on your machine, GPU will not be used.\n",
      "2024-10-06 00:19:35.046761: E external/local_xla/xla/stream_executor/cuda/cuda_fft.cc:485] Unable to register cuFFT factory: Attempting to register factory for plugin cuFFT when one has already been registered\n",
      "2024-10-06 00:19:35.075512: E external/local_xla/xla/stream_executor/cuda/cuda_dnn.cc:8454] Unable to register cuDNN factory: Attempting to register factory for plugin cuDNN when one has already been registered\n",
      "2024-10-06 00:19:35.083925: E external/local_xla/xla/stream_executor/cuda/cuda_blas.cc:1452] Unable to register cuBLAS factory: Attempting to register factory for plugin cuBLAS when one has already been registered\n",
      "2024-10-06 00:19:35.105503: I tensorflow/core/platform/cpu_feature_guard.cc:210] This TensorFlow binary is optimized to use available CPU instructions in performance-critical operations.\n",
      "To enable the following instructions: AVX2 FMA, in other operations, rebuild TensorFlow with the appropriate compiler flags.\n",
      "2024-10-06 00:19:36.303395: W tensorflow/compiler/tf2tensorrt/utils/py_utils.cc:38] TF-TRT Warning: Could not find TensorRT\n"
     ]
    }
   ],
   "source": [
    "import os\n",
    "import random\n",
    "from PIL import Image, ImageEnhance\n",
    "import numpy as np\n",
    "from sklearn.svm import SVC\n",
    "from sklearn.tree import DecisionTreeClassifier\n",
    "from sklearn.ensemble import RandomForestClassifier\n",
    "from sklearn.neighbors import KNeighborsClassifier\n",
    "\n",
    "from Scripts.ImageAug import process_dataset\n",
    "from Scripts.ExtractFeatures import extract_features\n",
    "from Scripts.Models import evaluate_models\n",
    "from Scripts.plots import plot_results,plot_results_table\n",
    "from Scripts.Models import evaluate_models"
   ]
  },
  {
   "cell_type": "code",
   "execution_count": 7,
   "id": "bf83fbee-64f7-473e-8a9b-c67b09e8c6cf",
   "metadata": {},
   "outputs": [
    {
     "name": "stdout",
     "output_type": "stream",
     "text": [
      "Meta Data of Original_DataSet/ \n",
      "-----------------------------------\n",
      "Folder Name          | Files\n",
      "-----------------------------------\n",
      "Damaged              | 366  \n",
      "Old                  | 436  \n",
      "Ripe                 | 516  \n",
      "Unripe               | 416  \n",
      "-----------------------------------\n",
      "Total                | 1734 \n",
      "-----------------------------------\n"
     ]
    }
   ],
   "source": [
    "!desc Original_DataSet/"
   ]
  },
  {
   "cell_type": "code",
   "execution_count": 10,
   "id": "6dc2ea75-c411-493e-91cc-805e876af373",
   "metadata": {},
   "outputs": [
    {
     "name": "stdout",
     "output_type": "stream",
     "text": [
      "Binary Dataset creation Completed\n"
     ]
    }
   ],
   "source": [
    "!./create_dataset.sh binary"
   ]
  },
  {
   "cell_type": "code",
   "execution_count": 11,
   "id": "a6f6c3ad-65ab-401b-8eae-13cdcc08f4cc",
   "metadata": {},
   "outputs": [
    {
     "name": "stdout",
     "output_type": "stream",
     "text": [
      "Meta Data of Binary_Dataset/ \n",
      "-----------------------------------\n",
      "Folder Name          | Files\n",
      "-----------------------------------\n",
      "Healthy              | 932  \n",
      "Reject               | 801  \n",
      "-----------------------------------\n",
      "Total                | 1733 \n",
      "-----------------------------------\n"
     ]
    }
   ],
   "source": [
    "!desc Binary_Dataset/"
   ]
  },
  {
   "cell_type": "code",
   "execution_count": 12,
   "id": "3a61e79a-f38b-406b-bdc0-4a8c622a5b79",
   "metadata": {},
   "outputs": [],
   "source": [
    "process_dataset(\"Binary_Dataset/\", num_augmentations=2)"
   ]
  },
  {
   "cell_type": "code",
   "execution_count": 13,
   "id": "6102c760-fba6-4eb1-a25b-e947bc0eeb23",
   "metadata": {},
   "outputs": [
    {
     "name": "stdout",
     "output_type": "stream",
     "text": [
      "Meta Data of Augmented_DataSet/ \n",
      "-----------------------------------\n",
      "Folder Name          | Files\n",
      "-----------------------------------\n",
      "Healthy              | 2796 \n",
      "Reject               | 2403 \n",
      "-----------------------------------\n",
      "Total                | 5199 \n",
      "-----------------------------------\n"
     ]
    }
   ],
   "source": [
    "!desc Augmented_DataSet/"
   ]
  },
  {
   "cell_type": "code",
   "execution_count": 16,
   "id": "80d0e883-d044-4a4d-9419-2104b887e9be",
   "metadata": {},
   "outputs": [
    {
     "name": "stdout",
     "output_type": "stream",
     "text": [
      "Found 5199 images belonging to 2 classes.\n"
     ]
    },
    {
     "name": "stderr",
     "output_type": "stream",
     "text": [
      "/home/ragu/.env/phase1/lib/python3.12/site-packages/keras/src/trainers/data_adapters/py_dataset_adapter.py:121: UserWarning: Your `PyDataset` class should call `super().__init__(**kwargs)` in its constructor. `**kwargs` can include `workers`, `use_multiprocessing`, `max_queue_size`. Do not pass these arguments to `fit()`, as they will be ignored.\n",
      "  self._warn_if_super_not_called()\n"
     ]
    },
    {
     "name": "stdout",
     "output_type": "stream",
     "text": [
      "\u001b[1m163/163\u001b[0m \u001b[32m━━━━━━━━━━━━━━━━━━━━\u001b[0m\u001b[37m\u001b[0m \u001b[1m44s\u001b[0m 252ms/step\n",
      "Features and labels extracted using InceptionV3 and saved successfully in 'Features' directory.\n"
     ]
    },
    {
     "name": "stderr",
     "output_type": "stream",
     "text": [
      "/home/ragu/repo/ImgAug/Scripts/ExtractFeatures.py:27: UserWarning: `input_shape` is undefined or non-square, or `rows` is not in [96, 128, 160, 192, 224]. Weights for input shape (224, 224) will be loaded as the default.\n",
      "  base_model = model_dict[model_name](weights='imagenet', include_top=False, input_shape=(img_height, img_width, 3))\n"
     ]
    },
    {
     "name": "stdout",
     "output_type": "stream",
     "text": [
      "Found 5199 images belonging to 2 classes.\n",
      "\u001b[1m163/163\u001b[0m \u001b[32m━━━━━━━━━━━━━━━━━━━━\u001b[0m\u001b[37m\u001b[0m \u001b[1m28s\u001b[0m 167ms/step\n",
      "Features and labels extracted using MobileNetV2 and saved successfully in 'Features' directory.\n",
      "Found 5199 images belonging to 2 classes.\n",
      "\u001b[1m163/163\u001b[0m \u001b[32m━━━━━━━━━━━━━━━━━━━━\u001b[0m\u001b[37m\u001b[0m \u001b[1m85s\u001b[0m 511ms/step\n",
      "Features and labels extracted using DenseNet121 and saved successfully in 'Features' directory.\n",
      "Found 5199 images belonging to 2 classes.\n",
      "\u001b[1m163/163\u001b[0m \u001b[32m━━━━━━━━━━━━━━━━━━━━\u001b[0m\u001b[37m\u001b[0m \u001b[1m46s\u001b[0m 275ms/step\n",
      "Features and labels extracted using EfficientNetB0 and saved successfully in 'Features' directory.\n",
      "Found 5199 images belonging to 2 classes.\n",
      "\u001b[1m163/163\u001b[0m \u001b[32m━━━━━━━━━━━━━━━━━━━━\u001b[0m\u001b[37m\u001b[0m \u001b[1m205s\u001b[0m 1s/step\n",
      "Features and labels extracted using VGG16 and saved successfully in 'Features' directory.\n"
     ]
    }
   ],
   "source": [
    "data_dir = 'Augmented_DataSet/' \n",
    "\n",
    "extract_features('ResNet50', data_dir)\n",
    "\n",
    "extract_features('InceptionV3', data_dir)\n",
    "\n",
    "extract_features('MobileNetV2', data_dir)\n",
    "\n",
    "extract_features('DenseNet121', data_dir)\n",
    "\n",
    "extract_features('EfficientNetB0', data_dir)\n",
    "\n",
    "extract_features('VGG16', data_dir) "
   ]
  },
  {
   "cell_type": "code",
   "execution_count": null,
   "id": "84acf326-476f-4f16-9e50-45383f34bde7",
   "metadata": {},
   "outputs": [
    {
     "name": "stdout",
     "output_type": "stream",
     "text": [
      "Features file not found: Features/extracted_features_resnet50.npy\n",
      "\n",
      " Loaded InceptionV3 Features ! \n",
      "\n",
      "Model: SVC with parameters [kernel: rbf] Completed !\n",
      "Model: SVC with parameters [kernel: linear] Completed !\n"
     ]
    }
   ],
   "source": [
    "# Define model parameters\n",
    "model_params = {\n",
    "    SVC: [{'kernel': 'rbf'}, {'kernel': 'linear'}],\n",
    "    DecisionTreeClassifier: [{'max_depth': None}, {'max_depth': 5}],\n",
    "    RandomForestClassifier: [{'n_estimators': 100, 'max_depth': None, 'random_state': 42}],\n",
    "    KNeighborsClassifier: [{'n_neighbors': 5}]\n",
    "}\n",
    "\n",
    "# Evaluate models\n",
    "results = evaluate_models(model_params=model_params)\n",
    "print(\"####################Completed##########################\")\n"
   ]
  },
  {
   "cell_type": "code",
   "execution_count": null,
   "id": "3030c64b-dcec-4b6d-9ae7-a4c839c4d155",
   "metadata": {},
   "outputs": [],
   "source": [
    "!mv Reports/model_results.csv   model_results_binary.csv"
   ]
  },
  {
   "cell_type": "code",
   "execution_count": null,
   "id": "753ea016-1260-497e-85f4-43fb16e8960f",
   "metadata": {},
   "outputs": [],
   "source": [
    "process_dataset(\"Binary_Dataset/\", num_augmentations=2)\n",
    "\n",
    "data_dir = 'Augmented_DataSet/' \n",
    "\n",
    "extract_features('ResNet50', data_dir)\n",
    "\n",
    "extract_features('InceptionV3', data_dir)\n",
    "\n",
    "extract_features('MobileNetV2', data_dir)\n",
    "\n",
    "extract_features('DenseNet121', data_dir)\n",
    "\n",
    "extract_features('EfficientNetB0', data_dir)\n",
    "\n",
    "extract_features('VGG16', data_dir) \n",
    "# Define model parameters\n",
    "model_params = {\n",
    "    SVC: [{'kernel': 'rbf'}, {'kernel': 'linear'}],\n",
    "    DecisionTreeClassifier: [{'max_depth': None}, {'max_depth': 5}],\n",
    "    RandomForestClassifier: [{'n_estimators': 100, 'max_depth': None, 'random_state': 42}],\n",
    "    KNeighborsClassifier: [{'n_neighbors': 5}]\n",
    "}\n",
    "\n",
    "# Evaluate models\n",
    "results = evaluate_models(model_params=model_params)\n",
    "print(\"####################Completed##########################\")\n",
    "!mv Reports/model_results.csv   model_results_binary.csv"
   ]
  }
 ],
 "metadata": {
  "kernelspec": {
   "display_name": "Python 3 (ipykernel)",
   "language": "python",
   "name": "python3"
  },
  "language_info": {
   "codemirror_mode": {
    "name": "ipython",
    "version": 3
   },
   "file_extension": ".py",
   "mimetype": "text/x-python",
   "name": "python",
   "nbconvert_exporter": "python",
   "pygments_lexer": "ipython3",
   "version": "3.12.3"
  }
 },
 "nbformat": 4,
 "nbformat_minor": 5
}
