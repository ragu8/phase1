{
 "cells": [
  {
   "cell_type": "code",
   "execution_count": 7,
   "id": "42c6680e-d791-46a4-8b2b-415e42dcbb4a",
   "metadata": {},
   "outputs": [],
   "source": [
    "from Scripts.test import *"
   ]
  },
  {
   "cell_type": "code",
   "execution_count": 8,
   "id": "a05a7aa6-fcd0-4f63-841d-c91d70bf6df1",
   "metadata": {},
   "outputs": [],
   "source": [
    "model_path = \"Models/binary/EfficientNetB0_KNN_n_neighbors: 5.pkl\"\n",
    "image_path = 'Original_DataSet/Ripe/r (2122).jpg'  "
   ]
  },
  {
   "cell_type": "code",
   "execution_count": 9,
   "id": "3de04ee7-847a-4da4-82ec-d5617193a4dd",
   "metadata": {},
   "outputs": [
    {
     "name": "stdout",
     "output_type": "stream",
     "text": [
      "model_loaded : EfficientNetB0\n"
     ]
    }
   ],
   "source": [
    "pretrained_model, features_size = load_pretrained(model_path)"
   ]
  },
  {
   "cell_type": "code",
   "execution_count": 10,
   "id": "652d3666-3e20-450d-b2ae-e6d414d2ca73",
   "metadata": {},
   "outputs": [
    {
     "name": "stdout",
     "output_type": "stream",
     "text": [
      "categories : ['Healthy', 'Reject']\n"
     ]
    }
   ],
   "source": [
    "categories = load_categories(model_path)"
   ]
  },
  {
   "cell_type": "code",
   "execution_count": 11,
   "id": "fa2c1087-d340-42ba-9e48-f7c66ee58419",
   "metadata": {},
   "outputs": [
    {
     "name": "stdout",
     "output_type": "stream",
     "text": [
      "Classifier : n\n",
      "hyperparameters : neighbors: 5\n"
     ]
    }
   ],
   "source": [
    "classifier = load_classifier(model_path)   "
   ]
  },
  {
   "cell_type": "code",
   "execution_count": 12,
   "id": "f57380b9-c92c-49ea-8cae-455e22da2c19",
   "metadata": {},
   "outputs": [
    {
     "name": "stdout",
     "output_type": "stream",
     "text": [
      "\u001b[1m1/1\u001b[0m \u001b[32m━━━━━━━━━━━━━━━━━━━━\u001b[0m\u001b[37m\u001b[0m \u001b[1m2s\u001b[0m 2s/step\n",
      "The predicted label for the image is: Healthy\n"
     ]
    }
   ],
   "source": [
    "predicted_label = predict_image(image_path, pretrained_model, classifier, categories,features_size)\n",
    "print(f\"The predicted label for the image is: {predicted_label}\")"
   ]
  },
  {
   "cell_type": "code",
   "execution_count": null,
   "id": "a318c5e2-5668-48a0-96c6-fb75b056bec8",
   "metadata": {},
   "outputs": [],
   "source": []
  }
 ],
 "metadata": {
  "kernelspec": {
   "display_name": "Python 3 (ipykernel)",
   "language": "python",
   "name": "python3"
  },
  "language_info": {
   "codemirror_mode": {
    "name": "ipython",
    "version": 3
   },
   "file_extension": ".py",
   "mimetype": "text/x-python",
   "name": "python",
   "nbconvert_exporter": "python",
   "pygments_lexer": "ipython3",
   "version": "3.12.3"
  }
 },
 "nbformat": 4,
 "nbformat_minor": 5
}
